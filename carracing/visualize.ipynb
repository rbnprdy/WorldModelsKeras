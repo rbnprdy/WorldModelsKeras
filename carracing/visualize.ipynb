{
 "cells": [
  {
   "cell_type": "code",
   "execution_count": 7,
   "metadata": {},
   "outputs": [],
   "source": [
    "%matplotlib inline\n",
    "\n",
    "import os\n",
    "\n",
    "import gym\n",
    "from tensorflow.keras.models import Model\n",
    "import matplotlib.pyplot as plt\n",
    "import numpy as np\n",
    "\n",
    "from models.vae import get_vae\n",
    "from models.rnn import get_rnn"
   ]
  },
  {
   "cell_type": "markdown",
   "metadata": {},
   "source": [
    "# Visualize VAE Recreation"
   ]
  },
  {
   "cell_type": "code",
   "execution_count": 9,
   "metadata": {},
   "outputs": [],
   "source": [
    "data_shape = (144, 144, 3)\n",
    "latent_dim = 32\n",
    "data_dir = 'data/'\n",
    "vae_checkpoint_path = 'checkpoints/vae.h5'\n",
    "num_images = 5\n",
    "output_file_vae = 'vae.png'"
   ]
  },
  {
   "cell_type": "code",
   "execution_count": 5,
   "metadata": {},
   "outputs": [],
   "source": [
    "vae = get_vae(data_shape, latent_dim,\n",
    "              filters=[16, 32, 64, 128, 256],\n",
    "              kernels=[4, 4, 4, 4, 4],\n",
    "              strides=[2, 2, 2, 2, 2],\n",
    "              deconv_filters=[256, 128, 64, 32, 16, 3],\n",
    "              deconv_kernels=[2, 5, 4, 4, 5, 4],\n",
    "              deconv_strides=[2, 2, 2, 2, 2, 2])\n",
    "vae.load_weights(vae_checkpoint_path)"
   ]
  },
  {
   "cell_type": "code",
   "execution_count": 20,
   "metadata": {},
   "outputs": [],
   "source": [
    "filelist = os.listdir(data_dir)\n",
    "filelist.sort()\n",
    "filename = filelist[0]\n",
    "obs = np.load(os.path.join(data_dir, filename))['obs'].astype(np.float) / 255.\n",
    "np.random.shuffle(obs)\n",
    "obs = obs[:num_images]\n",
    "predictions = vae.predict(obs)"
   ]
  },
  {
   "cell_type": "code",
   "execution_count": 28,
   "metadata": {},
   "outputs": [
    {
     "data": {
      "text/plain": [
       "<matplotlib.image.AxesImage at 0x13f947588>"
      ]
     },
     "execution_count": 28,
     "metadata": {},
     "output_type": "execute_result"
    },
    {
     "data": {
      "image/png": "[encoded data removed]",
      "text/plain": [
       "<Figure size 432x288 with 1 Axes>"
      ]
     },
     "metadata": {
      "needs_background": "light"
     },
     "output_type": "display_data"
    }
   ],
   "source": [
    "fig, axes = plt.subplots(num_images, 2, figsize=(15, 15))\n",
    "for ax, im, gen in zip(axes, obs, predictions):\n",
    "    ax[0].imshow(im, interpolation='nearest')\n",
    "    ax[0].set_title('Original Image')\n",
    "    ax[1].imshow(gen, interpolation='nearest')\n",
    "    ax[1].set_title('Autoencoder Recreation')\n",
    "plt.savefig(output_file_vae)"
   ]
  },
  {
   "cell_type": "markdown",
   "metadata": {},
   "source": [
    "# Visualize RNN Prediction"
   ]
  },
  {
   "cell_type": "code",
   "execution_count": null,
   "metadata": {},
   "outputs": [],
   "source": [
    "rnn_checkpoint_path = 'checkpoints/rnn.h5'\n",
    "output_file_rnn = 'rnn.png'\n",
    "offset = 20"
   ]
  },
  {
   "cell_type": "code",
   "execution_count": null,
   "metadata": {},
   "outputs": [],
   "source": [
    "encoder = Model(inputs=vae.input,\n",
    "                outputs=vae.get_layer('encoder').output)\n",
    "decoder = Model(inputs=vae.get_layer('decoder').input,\n",
    "                outputs=vae.get_layer('decoder').output)"
   ]
  },
  {
   "cell_type": "code",
   "execution_count": null,
   "metadata": {},
   "outputs": [],
   "source": [
    "rnn_train, rnn_infer = get_rnn((None, 35))\n",
    "rnn_train.load_weights(rnn_checkpoint_path)"
   ]
  },
  {
   "cell_type": "code",
   "execution_count": null,
   "metadata": {},
   "outputs": [],
   "source": [
    "filelist = os.listdir(data_dir)\n",
    "filelist.sort()\n",
    "filename = filelist[0]\n",
    "raw_data = np.load(os.path.join(data_dir, filename))\n",
    "obs = raw_data['obs'].astype(np.float) / 255.\n",
    "actions = raw_data['action']\n",
    "obs = obs[offset:offset+num_images]"
   ]
  },
  {
   "cell_type": "code",
   "execution_count": null,
   "metadata": {},
   "outputs": [],
   "source": [
    "z_true = encoder.predict(obs)[-1]\n",
    "rnn_input = np.column_stack([z_true, actions])[:-1]\n",
    "rnn_input = np.reshape(rnn_input, (-1, 1, 35))\n",
    "z_pred = rnn_train.predict(rnn_input)"
   ]
  },
  {
   "cell_type": "code",
   "execution_count": null,
   "metadata": {},
   "outputs": [],
   "source": [
    "# Sample predictions\n",
    "num_mixtures = 5\n",
    "output_sequence_width = 32\n",
    "# Flattened output sequences and mixtures\n",
    "flat = output_sequence_width*num_mixtures\n",
    "# Get number of sequences\n",
    "rollout = np.shape(z_pred)[1]\n",
    "# Extract flattened variables\n",
    "logpis_flat = z_pred[:,:,:flat]\n",
    "mus_flat = z_pred[:,:,flat:flat*2]\n",
    "sigmas_flat = z_pred[:,:,flat*2:flat*3]\n",
    "sigmas_flat.shape\n",
    "# Reshape to (batch, time, num_mixtures, output_sequence_width)\n",
    "shape = [-1, rollout, num_mixtures, output_sequence_width]\n",
    "logpis = np.reshape(logpis_flat, shape)\n",
    "mus = np.reshape(mus_flat, shape)\n",
    "sigmas = np.reshape(sigmas_flat, shape)\n",
    "# Tempearture stuff\n",
    "temperature = 0.7\n",
    "logpistemp = np.copy(logpis)/temperature\n",
    "logpistemp -= logpistemp.max()\n",
    "pistemp = np.exp(logpistemp)\n",
    "pistemp /= pistemp.sum(axis=2, keepdims=True)\n",
    "pitemp = pistemp[:,0,:,:]\n",
    "mu = mus[:,0,:,:]\n",
    "sigma = sigmas[:,0,:,:]"
   ]
  },
  {
   "cell_type": "code",
   "execution_count": null,
   "metadata": {},
   "outputs": [],
   "source": [
    "def get_pi_idx(x, pdf):\n",
    "    # samples from a categorial distribution\n",
    "    N = pdf.size\n",
    "    accumulate = 0\n",
    "    for i in range(0, N):\n",
    "        accumulate += pdf[i]\n",
    "        if (accumulate >= x):\n",
    "            return i\n",
    "    print('error with sampling ensemble')\n",
    "    return -1"
   ]
  },
  {
   "cell_type": "code",
   "execution_count": null,
   "metadata": {},
   "outputs": [],
   "source": [
    "pi_idx = np.zeros((pitemp.shape[0], 32))\n",
    "chosen_mu = np.zeros((pitemp.shape[0], 32))\n",
    "chosen_sigma = np.zeros((pitemp.shape[0], 32))\n",
    "for i in range(pitemp.shape[0]):\n",
    "    for j in range(32):\n",
    "        idx = get_pi_idx(np.random.rand(), pitemp[i][:,j])\n",
    "        pi_idx[i,j] = idx\n",
    "        chosen_mu[i,j] = mu[i][idx][j]\n",
    "        chosen_sigma[i,j] = sigma[i][idx][j]\n",
    "\n",
    "rand_gaussian = np.random.normal(size=(pitemp.shape[0], 32))*np.sqrt(temperature)\n",
    "next_z = chosen_mu+chosen_sigma*rand_gaussian"
   ]
  },
  {
   "cell_type": "code",
   "execution_count": null,
   "metadata": {},
   "outputs": [],
   "source": [
    "predictions = decoder.predict(next_z)\n",
    "predictions_real = decoder.predict(z_true)"
   ]
  },
  {
   "cell_type": "code",
   "execution_count": null,
   "metadata": {},
   "outputs": [],
   "source": [
    "fig, axes = plt.subplots(5, 2)\n",
    "for ax, im, gen in zip(axes, predictions_real[1:], predictions):\n",
    "    ax[0].imshow(im, interpolation='nearest')\n",
    "    ax[0].set_title('Actual Image')\n",
    "    ax[1].imshow(gen, interpolation='nearest')\n",
    "    ax[1].set_title('Decoded RNN Prediction')\n",
    "plt.savefig(output_file_rnn)"
   ]
  }
 ],
 "metadata": {
  "kernelspec": {
   "display_name": "gym",
   "language": "python",
   "name": "gym"
  },
  "language_info": {
   "codemirror_mode": {
    "name": "ipython",
    "version": 3
   },
   "file_extension": ".py",
   "mimetype": "text/x-python",
   "name": "python",
   "nbconvert_exporter": "python",
   "pygments_lexer": "ipython3",
   "version": "3.6.1"
  }
 },
 "nbformat": 4,
 "nbformat_minor": 2
}
